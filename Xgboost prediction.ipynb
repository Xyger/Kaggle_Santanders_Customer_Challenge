{
 "cells": [
  {
   "cell_type": "code",
   "execution_count": 3,
   "metadata": {},
   "outputs": [
    {
     "name": "stderr",
     "output_type": "stream",
     "text": [
      "C:\\Users\\Saurav\\Anaconda3\\lib\\site-packages\\statsmodels\\tools\\_testing.py:19: FutureWarning: pandas.util.testing is deprecated. Use the functions in the public API at pandas.testing instead.\n",
      "  import pandas.util.testing as tm\n"
     ]
    }
   ],
   "source": [
    "import pandas as pd\n",
    "import numpy as np\n",
    "import matplotlib.pyplot as plt\n",
    "import seaborn as sns\n",
    "from sklearn.model_selection import train_test_split\n",
    "from sklearn.feature_selection import chi2,f_classif,SelectFromModel\n",
    "from xgboost import XGBClassifier\n",
    "from sklearn.ensemble import RandomForestClassifier,GradientBoostingClassifier\n",
    "from sklearn.linear_model import RidgeClassifier\n"
   ]
  },
  {
   "cell_type": "code",
   "execution_count": 4,
   "metadata": {},
   "outputs": [],
   "source": [
    "pd.set_option('display.max_columns',500)"
   ]
  },
  {
   "cell_type": "code",
   "execution_count": 5,
   "metadata": {},
   "outputs": [],
   "source": [
    "train=pd.read_csv('train.csv')\n",
    "test=pd.read_csv('test.csv')\n"
   ]
  },
  {
   "cell_type": "code",
   "execution_count": 6,
   "metadata": {},
   "outputs": [
    {
     "data": {
      "text/plain": [
       "2      74281\n",
       "8        138\n",
       "9        110\n",
       "3        108\n",
       "1        105\n",
       "       ...  \n",
       "177        1\n",
       "87         1\n",
       "151        1\n",
       "215        1\n",
       "191        1\n",
       "Name: var3, Length: 207, dtype: int64"
      ]
     },
     "execution_count": 6,
     "metadata": {},
     "output_type": "execute_result"
    }
   ],
   "source": [
    "train.loc[train['var3']==-999999,'var3']=2\n",
    "train.var3.value_counts()"
   ]
  },
  {
   "cell_type": "code",
   "execution_count": 7,
   "metadata": {},
   "outputs": [
    {
     "data": {
      "text/plain": [
       "(array([1.0000e+00, 0.0000e+00, 1.0000e+00, 1.0000e+00, 0.0000e+00,\n",
       "        2.0000e+00, 2.0000e+00, 2.0000e+00, 5.0000e+00, 8.0000e+00,\n",
       "        1.2000e+01, 2.5000e+01, 3.3000e+01, 4.5000e+01, 5.2000e+01,\n",
       "        8.5000e+01, 1.0300e+02, 1.6700e+02, 1.8400e+02, 2.6000e+02,\n",
       "        3.9000e+02, 4.7600e+02, 6.9700e+02, 9.7900e+02, 1.1730e+03,\n",
       "        1.6050e+03, 1.9210e+03, 2.3050e+03, 2.6800e+03, 3.1060e+03,\n",
       "        3.2910e+03, 3.6510e+03, 3.5790e+03, 3.5620e+03, 3.5760e+03,\n",
       "        3.3860e+03, 3.2440e+03, 1.7815e+04, 2.7490e+03, 2.3130e+03,\n",
       "        2.1110e+03, 1.7320e+03, 1.5860e+03, 1.2680e+03, 1.0670e+03,\n",
       "        9.2500e+02, 7.3800e+02, 5.3500e+02, 4.9600e+02, 3.6200e+02,\n",
       "        3.2100e+02, 2.7700e+02, 2.2900e+02, 1.8000e+02, 1.5000e+02,\n",
       "        1.1100e+02, 6.8000e+01, 6.3000e+01, 5.9000e+01, 3.6000e+01,\n",
       "        3.2000e+01, 3.5000e+01, 3.3000e+01, 2.8000e+01, 1.3000e+01,\n",
       "        6.0000e+00, 1.1000e+01, 3.0000e+00, 8.0000e+00, 3.0000e+00,\n",
       "        6.0000e+00, 1.0000e+00, 3.0000e+00, 5.0000e+00, 4.0000e+00,\n",
       "        3.0000e+00, 1.0000e+00, 2.0000e+00, 0.0000e+00, 2.0000e+00,\n",
       "        0.0000e+00, 2.0000e+00, 0.0000e+00, 6.0000e+00, 0.0000e+00,\n",
       "        0.0000e+00, 1.0000e+00, 0.0000e+00, 4.0000e+00, 1.0000e+00,\n",
       "        3.0000e+00, 1.0000e+00, 1.0000e+00, 1.0000e+00, 0.0000e+00,\n",
       "        0.0000e+00, 0.0000e+00, 0.0000e+00, 0.0000e+00, 1.0000e+00]),\n",
       " array([ 8.54941834,  8.63300546,  8.71659259,  8.80017971,  8.88376684,\n",
       "         8.96735396,  9.05094109,  9.13452821,  9.21811534,  9.30170246,\n",
       "         9.38528958,  9.46887671,  9.55246383,  9.63605096,  9.71963808,\n",
       "         9.80322521,  9.88681233,  9.97039946, 10.05398658, 10.13757371,\n",
       "        10.22116083, 10.30474796, 10.38833508, 10.4719222 , 10.55550933,\n",
       "        10.63909645, 10.72268358, 10.8062707 , 10.88985783, 10.97344495,\n",
       "        11.05703208, 11.1406192 , 11.22420633, 11.30779345, 11.39138058,\n",
       "        11.4749677 , 11.55855482, 11.64214195, 11.72572907, 11.8093162 ,\n",
       "        11.89290332, 11.97649045, 12.06007757, 12.1436647 , 12.22725182,\n",
       "        12.31083895, 12.39442607, 12.4780132 , 12.56160032, 12.64518744,\n",
       "        12.72877457, 12.81236169, 12.89594882, 12.97953594, 13.06312307,\n",
       "        13.14671019, 13.23029732, 13.31388444, 13.39747157, 13.48105869,\n",
       "        13.56464582, 13.64823294, 13.73182007, 13.81540719, 13.89899431,\n",
       "        13.98258144, 14.06616856, 14.14975569, 14.23334281, 14.31692994,\n",
       "        14.40051706, 14.48410419, 14.56769131, 14.65127844, 14.73486556,\n",
       "        14.81845269, 14.90203981, 14.98562693, 15.06921406, 15.15280118,\n",
       "        15.23638831, 15.31997543, 15.40356256, 15.48714968, 15.57073681,\n",
       "        15.65432393, 15.73791106, 15.82149818, 15.90508531, 15.98867243,\n",
       "        16.07225955, 16.15584668, 16.2394338 , 16.32302093, 16.40660805,\n",
       "        16.49019518, 16.5737823 , 16.65736943, 16.74095655, 16.82454368,\n",
       "        16.9081308 ]),\n",
       " <a list of 100 Patch objects>)"
      ]
     },
     "execution_count": 7,
     "metadata": {},
     "output_type": "execute_result"
    },
    {
     "data": {
      "image/png": "[encoded data removed]",
      "text/plain": [
       "<Figure size 432x288 with 1 Axes>"
      ]
     },
     "metadata": {
      "needs_background": "light"
     },
     "output_type": "display_data"
    }
   ],
   "source": [
    "plt.hist(np.log(train['var38']),bins=100)"
   ]
  },
  {
   "cell_type": "code",
   "execution_count": 8,
   "metadata": {},
   "outputs": [],
   "source": [
    "mat=train.corr()"
   ]
  },
  {
   "cell_type": "code",
   "execution_count": 9,
   "metadata": {},
   "outputs": [],
   "source": [
    "x=pd.DataFrame({'columns': train.columns,'corr':mat['TARGET'].values})"
   ]
  },
  {
   "cell_type": "code",
   "execution_count": 10,
   "metadata": {},
   "outputs": [],
   "source": [
    "x=x.set_index('columns',drop=True).sort_values(by='corr',ascending=False)\n"
   ]
  },
  {
   "cell_type": "code",
   "execution_count": 11,
   "metadata": {},
   "outputs": [
    {
     "data": {
      "text/html": [
       "<div>\n",
       "<style scoped>\n",
       "    .dataframe tbody tr th:only-of-type {\n",
       "        vertical-align: middle;\n",
       "    }\n",
       "\n",
       "    .dataframe tbody tr th {\n",
       "        vertical-align: top;\n",
       "    }\n",
       "\n",
       "    .dataframe thead th {\n",
       "        text-align: right;\n",
       "    }\n",
       "</style>\n",
       "<table border=\"1\" class=\"dataframe\">\n",
       "  <thead>\n",
       "    <tr style=\"text-align: right;\">\n",
       "      <th></th>\n",
       "      <th>corr</th>\n",
       "    </tr>\n",
       "    <tr>\n",
       "      <th>columns</th>\n",
       "      <th></th>\n",
       "    </tr>\n",
       "  </thead>\n",
       "  <tbody>\n",
       "    <tr>\n",
       "      <th>TARGET</th>\n",
       "      <td>1.000000</td>\n",
       "    </tr>\n",
       "    <tr>\n",
       "      <th>var36</th>\n",
       "      <td>0.102919</td>\n",
       "    </tr>\n",
       "    <tr>\n",
       "      <th>var15</th>\n",
       "      <td>0.101322</td>\n",
       "    </tr>\n",
       "    <tr>\n",
       "      <th>ind_var8_0</th>\n",
       "      <td>0.046665</td>\n",
       "    </tr>\n",
       "    <tr>\n",
       "      <th>num_var8_0</th>\n",
       "      <td>0.046622</td>\n",
       "    </tr>\n",
       "    <tr>\n",
       "      <th>imp_op_var39_efect_ult1</th>\n",
       "      <td>0.030380</td>\n",
       "    </tr>\n",
       "    <tr>\n",
       "      <th>imp_op_var41_efect_ult1</th>\n",
       "      <td>0.029479</td>\n",
       "    </tr>\n",
       "    <tr>\n",
       "      <th>num_var8</th>\n",
       "      <td>0.027926</td>\n",
       "    </tr>\n",
       "    <tr>\n",
       "      <th>ind_var8</th>\n",
       "      <td>0.027926</td>\n",
       "    </tr>\n",
       "    <tr>\n",
       "      <th>imp_op_var41_ult1</th>\n",
       "      <td>0.027586</td>\n",
       "    </tr>\n",
       "    <tr>\n",
       "      <th>imp_op_var39_ult1</th>\n",
       "      <td>0.027416</td>\n",
       "    </tr>\n",
       "    <tr>\n",
       "      <th>num_meses_var8_ult3</th>\n",
       "      <td>0.025943</td>\n",
       "    </tr>\n",
       "    <tr>\n",
       "      <th>num_var22_ult1</th>\n",
       "      <td>0.025189</td>\n",
       "    </tr>\n",
       "    <tr>\n",
       "      <th>ind_var26_cte</th>\n",
       "      <td>0.023538</td>\n",
       "    </tr>\n",
       "    <tr>\n",
       "      <th>ind_var25_cte</th>\n",
       "      <td>0.023351</td>\n",
       "    </tr>\n",
       "    <tr>\n",
       "      <th>imp_op_var39_efect_ult3</th>\n",
       "      <td>0.022172</td>\n",
       "    </tr>\n",
       "    <tr>\n",
       "      <th>num_op_var39_efect_ult1</th>\n",
       "      <td>0.021783</td>\n",
       "    </tr>\n",
       "    <tr>\n",
       "      <th>imp_op_var41_efect_ult3</th>\n",
       "      <td>0.021486</td>\n",
       "    </tr>\n",
       "    <tr>\n",
       "      <th>num_op_var41_efect_ult1</th>\n",
       "      <td>0.021036</td>\n",
       "    </tr>\n",
       "    <tr>\n",
       "      <th>num_op_var39_efect_ult3</th>\n",
       "      <td>0.020237</td>\n",
       "    </tr>\n",
       "    <tr>\n",
       "      <th>imp_op_var40_efect_ult3</th>\n",
       "      <td>0.019965</td>\n",
       "    </tr>\n",
       "    <tr>\n",
       "      <th>num_op_var41_efect_ult3</th>\n",
       "      <td>0.019599</td>\n",
       "    </tr>\n",
       "    <tr>\n",
       "      <th>ind_var25</th>\n",
       "      <td>0.019497</td>\n",
       "    </tr>\n",
       "    <tr>\n",
       "      <th>ind_var25_0</th>\n",
       "      <td>0.019497</td>\n",
       "    </tr>\n",
       "    <tr>\n",
       "      <th>imp_op_var40_efect_ult1</th>\n",
       "      <td>0.019221</td>\n",
       "    </tr>\n",
       "    <tr>\n",
       "      <th>ind_var26_0</th>\n",
       "      <td>0.019104</td>\n",
       "    </tr>\n",
       "    <tr>\n",
       "      <th>ind_var26</th>\n",
       "      <td>0.019104</td>\n",
       "    </tr>\n",
       "    <tr>\n",
       "      <th>num_var25_0</th>\n",
       "      <td>0.018722</td>\n",
       "    </tr>\n",
       "    <tr>\n",
       "      <th>num_var25</th>\n",
       "      <td>0.018722</td>\n",
       "    </tr>\n",
       "    <tr>\n",
       "      <th>num_op_var40_efect_ult1</th>\n",
       "      <td>0.018579</td>\n",
       "    </tr>\n",
       "    <tr>\n",
       "      <th>num_op_var40_efect_ult3</th>\n",
       "      <td>0.018353</td>\n",
       "    </tr>\n",
       "    <tr>\n",
       "      <th>num_var26</th>\n",
       "      <td>0.018156</td>\n",
       "    </tr>\n",
       "    <tr>\n",
       "      <th>num_var26_0</th>\n",
       "      <td>0.018156</td>\n",
       "    </tr>\n",
       "    <tr>\n",
       "      <th>num_med_var22_ult3</th>\n",
       "      <td>0.016262</td>\n",
       "    </tr>\n",
       "    <tr>\n",
       "      <th>num_var22_ult3</th>\n",
       "      <td>0.012481</td>\n",
       "    </tr>\n",
       "    <tr>\n",
       "      <th>num_reemb_var17_ult1</th>\n",
       "      <td>0.011944</td>\n",
       "    </tr>\n",
       "    <tr>\n",
       "      <th>saldo_var40</th>\n",
       "      <td>0.011784</td>\n",
       "    </tr>\n",
       "    <tr>\n",
       "      <th>num_op_var39_ult1</th>\n",
       "      <td>0.011246</td>\n",
       "    </tr>\n",
       "    <tr>\n",
       "      <th>num_op_var41_ult1</th>\n",
       "      <td>0.011242</td>\n",
       "    </tr>\n",
       "    <tr>\n",
       "      <th>num_op_var41_ult3</th>\n",
       "      <td>0.010462</td>\n",
       "    </tr>\n",
       "  </tbody>\n",
       "</table>\n",
       "</div>"
      ],
      "text/plain": [
       "                             corr\n",
       "columns                          \n",
       "TARGET                   1.000000\n",
       "var36                    0.102919\n",
       "var15                    0.101322\n",
       "ind_var8_0               0.046665\n",
       "num_var8_0               0.046622\n",
       "imp_op_var39_efect_ult1  0.030380\n",
       "imp_op_var41_efect_ult1  0.029479\n",
       "num_var8                 0.027926\n",
       "ind_var8                 0.027926\n",
       "imp_op_var41_ult1        0.027586\n",
       "imp_op_var39_ult1        0.027416\n",
       "num_meses_var8_ult3      0.025943\n",
       "num_var22_ult1           0.025189\n",
       "ind_var26_cte            0.023538\n",
       "ind_var25_cte            0.023351\n",
       "imp_op_var39_efect_ult3  0.022172\n",
       "num_op_var39_efect_ult1  0.021783\n",
       "imp_op_var41_efect_ult3  0.021486\n",
       "num_op_var41_efect_ult1  0.021036\n",
       "num_op_var39_efect_ult3  0.020237\n",
       "imp_op_var40_efect_ult3  0.019965\n",
       "num_op_var41_efect_ult3  0.019599\n",
       "ind_var25                0.019497\n",
       "ind_var25_0              0.019497\n",
       "imp_op_var40_efect_ult1  0.019221\n",
       "ind_var26_0              0.019104\n",
       "ind_var26                0.019104\n",
       "num_var25_0              0.018722\n",
       "num_var25                0.018722\n",
       "num_op_var40_efect_ult1  0.018579\n",
       "num_op_var40_efect_ult3  0.018353\n",
       "num_var26                0.018156\n",
       "num_var26_0              0.018156\n",
       "num_med_var22_ult3       0.016262\n",
       "num_var22_ult3           0.012481\n",
       "num_reemb_var17_ult1     0.011944\n",
       "saldo_var40              0.011784\n",
       "num_op_var39_ult1        0.011246\n",
       "num_op_var41_ult1        0.011242\n",
       "num_op_var41_ult3        0.010462"
      ]
     },
     "execution_count": 11,
     "metadata": {},
     "output_type": "execute_result"
    }
   ],
   "source": [
    "x[:40]"
   ]
  },
  {
   "cell_type": "code",
   "execution_count": 12,
   "metadata": {},
   "outputs": [
    {
     "name": "stderr",
     "output_type": "stream",
     "text": [
      "C:\\Users\\Saurav\\Anaconda3\\lib\\site-packages\\seaborn\\axisgrid.py:230: UserWarning: The `size` paramter has been renamed to `height`; please update your code.\n",
      "  warnings.warn(msg, UserWarning)\n"
     ]
    },
    {
     "data": {
      "text/plain": [
       "<seaborn.axisgrid.FacetGrid at 0x21f002ec948>"
      ]
     },
     "execution_count": 12,
     "metadata": {},
     "output_type": "execute_result"
    },
    {
     "data": {
      "image/png": "[encoded data removed]",
      "text/plain": [
       "<Figure size 767x720 with 1 Axes>"
      ]
     },
     "metadata": {
      "needs_background": "light"
     },
     "output_type": "display_data"
    }
   ],
   "source": [
    "sns.FacetGrid(train,hue='TARGET',size=10).map(plt.hist,'var36',bins=100).add_legend()"
   ]
  },
  {
   "cell_type": "code",
   "execution_count": 13,
   "metadata": {},
   "outputs": [
    {
     "data": {
      "text/plain": [
       "117310.979016    14868\n",
       "451931.220000       16\n",
       "463625.160000       12\n",
       "288997.440000       11\n",
       "104563.800000       11\n",
       "                 ...  \n",
       "318211.440000        1\n",
       "73069.260000         1\n",
       "36425.370000         1\n",
       "163515.900000        1\n",
       "159395.520000        1\n",
       "Name: var38, Length: 57736, dtype: int64"
      ]
     },
     "execution_count": 13,
     "metadata": {},
     "output_type": "execute_result"
    }
   ],
   "source": [
    "train['var38'].value_counts()"
   ]
  },
  {
   "cell_type": "code",
   "execution_count": 14,
   "metadata": {},
   "outputs": [
    {
     "data": {
      "text/plain": [
       "<matplotlib.axes._subplots.AxesSubplot at 0x21f00c0c048>"
      ]
     },
     "execution_count": 14,
     "metadata": {},
     "output_type": "execute_result"
    },
    {
     "data": {
      "image/png": "[encoded data removed]",
      "text/plain": [
       "<Figure size 432x288 with 1 Axes>"
      ]
     },
     "metadata": {
      "needs_background": "light"
     },
     "output_type": "display_data"
    }
   ],
   "source": [
    "train.loc[~np.isclose(train.var38,117310.979016),'var38'].map(np.log).hist(bins=100)"
   ]
  },
  {
   "cell_type": "code",
   "execution_count": 15,
   "metadata": {},
   "outputs": [],
   "source": [
    "train['log_var38']=train.loc[~np.isclose(train.var38,117310.979016),'var38'].map(np.log)\n",
    "train.loc[np.isclose(train.var38,117310.979016),'log_var38']=0"
   ]
  },
  {
   "cell_type": "code",
   "execution_count": 16,
   "metadata": {},
   "outputs": [],
   "source": [
    "train['var38_hasmostcommon']=np.isclose(train.var38, 117310.979016)"
   ]
  },
  {
   "cell_type": "code",
   "execution_count": 17,
   "metadata": {},
   "outputs": [],
   "source": [
    "y=train['TARGET']\n",
    "train=train.drop('TARGET',axis=1)"
   ]
  },
  {
   "cell_type": "code",
   "execution_count": 18,
   "metadata": {},
   "outputs": [
    {
     "data": {
      "text/plain": [
       "RandomForestClassifier(bootstrap=True, class_weight=None, criterion='gini',\n",
       "                       max_depth=None, max_features='auto', max_leaf_nodes=None,\n",
       "                       min_impurity_decrease=0.0, min_impurity_split=None,\n",
       "                       min_samples_leaf=1, min_samples_split=2,\n",
       "                       min_weight_fraction_leaf=0.0, n_estimators=100,\n",
       "                       n_jobs=None, oob_score=False, random_state=None,\n",
       "                       verbose=0, warm_start=False)"
      ]
     },
     "execution_count": 18,
     "metadata": {},
     "output_type": "execute_result"
    }
   ],
   "source": [
    "rf=RandomForestClassifier(n_estimators=100)\n",
    "rf.fit(train,y)"
   ]
  },
  {
   "cell_type": "code",
   "execution_count": 19,
   "metadata": {},
   "outputs": [
    {
     "data": {
      "text/plain": [
       "<matplotlib.axes._subplots.AxesSubplot at 0x21f5c416d08>"
      ]
     },
     "execution_count": 19,
     "metadata": {},
     "output_type": "execute_result"
    },
    {
     "data": {
      "image/png": "[encoded data removed]",
      "text/plain": [
       "<Figure size 432x288 with 1 Axes>"
      ]
     },
     "metadata": {
      "needs_background": "light"
     },
     "output_type": "display_data"
    }
   ],
   "source": [
    "feat=pd.DataFrame({'columns':train.columns,'imp':rf.feature_importances_})\n",
    "feat=feat.set_index('columns',drop=True).sort_values('imp',ascending=False)\n",
    "x=feat[:25]\n",
    "x.plot(kind='bar')"
   ]
  },
  {
   "cell_type": "code",
   "execution_count": 20,
   "metadata": {},
   "outputs": [],
   "source": [
    "from sklearn.feature_selection import VarianceThreshold\n"
   ]
  },
  {
   "cell_type": "code",
   "execution_count": 21,
   "metadata": {},
   "outputs": [
    {
     "data": {
      "text/plain": [
       "<matplotlib.axes._subplots.AxesSubplot at 0x21f00a6aa08>"
      ]
     },
     "execution_count": 21,
     "metadata": {},
     "output_type": "execute_result"
    },
    {
     "data": {
      "image/png": "[encoded data removed]",
      "text/plain": [
       "<Figure size 432x288 with 1 Axes>"
      ]
     },
     "metadata": {
      "needs_background": "light"
     },
     "output_type": "display_data"
    }
   ],
   "source": [
    "test.loc[~np.isclose(test.var38,117310.979016),'var38'].map(np.log).hist(bins=100)"
   ]
  },
  {
   "cell_type": "code",
   "execution_count": 22,
   "metadata": {},
   "outputs": [],
   "source": [
    "test['log_var38']=test.loc[~np.isclose(test.var38,117310.979016),'var38'].map(np.log)\n",
    "test.loc[np.isclose(test.var38,117310.979016),'log_var38']=0\n",
    "test['var38_hasmostcommon']=np.isclose(test.var38, 117310.979016)"
   ]
  },
  {
   "cell_type": "code",
   "execution_count": 23,
   "metadata": {},
   "outputs": [],
   "source": [
    "n_train=len(train)\n",
    "n_test=len(test)"
   ]
  },
  {
   "cell_type": "code",
   "execution_count": 24,
   "metadata": {},
   "outputs": [],
   "source": [
    "all_df=pd.concat((train,test)).reset_index()\n"
   ]
  },
  {
   "cell_type": "code",
   "execution_count": 25,
   "metadata": {},
   "outputs": [],
   "source": [
    "all_df.drop('index',axis=1,inplace=True)"
   ]
  },
  {
   "cell_type": "code",
   "execution_count": 26,
   "metadata": {},
   "outputs": [],
   "source": [
    "all_df.loc[all_df['var3']==-999999,'var3']=2"
   ]
  },
  {
   "cell_type": "code",
   "execution_count": 27,
   "metadata": {},
   "outputs": [
    {
     "data": {
      "text/plain": [
       "VarianceThreshold(threshold=0)"
      ]
     },
     "execution_count": 27,
     "metadata": {},
     "output_type": "execute_result"
    }
   ],
   "source": [
    "sel=VarianceThreshold(threshold=0)\n",
    "sel.fit(all_df)"
   ]
  },
  {
   "cell_type": "code",
   "execution_count": 28,
   "metadata": {},
   "outputs": [],
   "source": [
    "cols=[x for x in all_df.columns if x not in all_df.columns[sel.get_support()]]"
   ]
  },
  {
   "cell_type": "code",
   "execution_count": 29,
   "metadata": {},
   "outputs": [],
   "source": [
    "all_df.drop(cols,axis=1,inplace=True)"
   ]
  },
  {
   "cell_type": "code",
   "execution_count": 31,
   "metadata": {},
   "outputs": [
    {
     "data": {
      "text/plain": [
       "99    60159\n",
       "3     44393\n",
       "1     29032\n",
       "2     17472\n",
       "0       782\n",
       "Name: var36, dtype: int64"
      ]
     },
     "execution_count": 31,
     "metadata": {},
     "output_type": "execute_result"
    }
   ],
   "source": [
    "all_df['var36'].value_counts()"
   ]
  },
  {
   "cell_type": "code",
   "execution_count": 58,
   "metadata": {},
   "outputs": [
    {
     "name": "stderr",
     "output_type": "stream",
     "text": [
      "C:\\Users\\Saurav\\Anaconda3\\lib\\site-packages\\sklearn\\feature_selection\\univariate_selection.py:114: UserWarning: Features [ 22  23  57  58  59  60  81  85  86 132 133 134 135 156 162 163 180 181\n",
      " 190 193 221 223 235 239 245 249 262 263 304 308 316 320 328 350] are constant.\n",
      "  UserWarning)\n",
      "C:\\Users\\Saurav\\Anaconda3\\lib\\site-packages\\sklearn\\feature_selection\\univariate_selection.py:115: RuntimeWarning: invalid value encountered in true_divide\n",
      "  f = msb / msw\n"
     ]
    }
   ],
   "source": [
    "from sklearn.feature_selection import SelectPercentile\n",
    "p=3\n",
    "f_cl=SelectPercentile(f_classif,percentile=p).fit(train,y)"
   ]
  },
  {
   "cell_type": "code",
   "execution_count": 59,
   "metadata": {},
   "outputs": [
    {
     "data": {
      "text/plain": [
       "['var15',\n",
       " 'ind_var5',\n",
       " 'ind_var8_0',\n",
       " 'ind_var30',\n",
       " 'num_var4',\n",
       " 'num_var5',\n",
       " 'num_var8_0',\n",
       " 'num_var30',\n",
       " 'num_var35',\n",
       " 'num_var42',\n",
       " 'var36',\n",
       " 'num_meses_var5_ult3']"
      ]
     },
     "execution_count": 59,
     "metadata": {},
     "output_type": "execute_result"
    }
   ],
   "source": [
    "sel=f_cl.get_support()\n",
    "cols=[f for i,f in enumerate(train.columns) if sel[i]]\n",
    "cols"
   ]
  },
  {
   "cell_type": "code",
   "execution_count": 67,
   "metadata": {},
   "outputs": [
    {
     "data": {
      "text/html": [
       "<div>\n",
       "<style scoped>\n",
       "    .dataframe tbody tr th:only-of-type {\n",
       "        vertical-align: middle;\n",
       "    }\n",
       "\n",
       "    .dataframe tbody tr th {\n",
       "        vertical-align: top;\n",
       "    }\n",
       "\n",
       "    .dataframe thead th {\n",
       "        text-align: right;\n",
       "    }\n",
       "</style>\n",
       "<table border=\"1\" class=\"dataframe\">\n",
       "  <thead>\n",
       "    <tr style=\"text-align: right;\">\n",
       "      <th></th>\n",
       "      <th>ind_var5</th>\n",
       "      <th>ind_var5_0</th>\n",
       "      <th>ind_var8</th>\n",
       "      <th>ind_var8_0</th>\n",
       "    </tr>\n",
       "  </thead>\n",
       "  <tbody>\n",
       "    <tr>\n",
       "      <th>0</th>\n",
       "      <td>0</td>\n",
       "      <td>1</td>\n",
       "      <td>0</td>\n",
       "      <td>0</td>\n",
       "    </tr>\n",
       "    <tr>\n",
       "      <th>1</th>\n",
       "      <td>0</td>\n",
       "      <td>1</td>\n",
       "      <td>0</td>\n",
       "      <td>0</td>\n",
       "    </tr>\n",
       "    <tr>\n",
       "      <th>2</th>\n",
       "      <td>1</td>\n",
       "      <td>1</td>\n",
       "      <td>0</td>\n",
       "      <td>0</td>\n",
       "    </tr>\n",
       "    <tr>\n",
       "      <th>3</th>\n",
       "      <td>1</td>\n",
       "      <td>1</td>\n",
       "      <td>0</td>\n",
       "      <td>0</td>\n",
       "    </tr>\n",
       "    <tr>\n",
       "      <th>4</th>\n",
       "      <td>0</td>\n",
       "      <td>1</td>\n",
       "      <td>0</td>\n",
       "      <td>0</td>\n",
       "    </tr>\n",
       "    <tr>\n",
       "      <th>...</th>\n",
       "      <td>...</td>\n",
       "      <td>...</td>\n",
       "      <td>...</td>\n",
       "      <td>...</td>\n",
       "    </tr>\n",
       "    <tr>\n",
       "      <th>151833</th>\n",
       "      <td>0</td>\n",
       "      <td>1</td>\n",
       "      <td>0</td>\n",
       "      <td>0</td>\n",
       "    </tr>\n",
       "    <tr>\n",
       "      <th>151834</th>\n",
       "      <td>1</td>\n",
       "      <td>1</td>\n",
       "      <td>0</td>\n",
       "      <td>0</td>\n",
       "    </tr>\n",
       "    <tr>\n",
       "      <th>151835</th>\n",
       "      <td>1</td>\n",
       "      <td>1</td>\n",
       "      <td>0</td>\n",
       "      <td>0</td>\n",
       "    </tr>\n",
       "    <tr>\n",
       "      <th>151836</th>\n",
       "      <td>1</td>\n",
       "      <td>1</td>\n",
       "      <td>0</td>\n",
       "      <td>0</td>\n",
       "    </tr>\n",
       "    <tr>\n",
       "      <th>151837</th>\n",
       "      <td>1</td>\n",
       "      <td>1</td>\n",
       "      <td>0</td>\n",
       "      <td>0</td>\n",
       "    </tr>\n",
       "  </tbody>\n",
       "</table>\n",
       "<p>151838 rows × 4 columns</p>\n",
       "</div>"
      ],
      "text/plain": [
       "        ind_var5  ind_var5_0  ind_var8  ind_var8_0\n",
       "0              0           1         0           0\n",
       "1              0           1         0           0\n",
       "2              1           1         0           0\n",
       "3              1           1         0           0\n",
       "4              0           1         0           0\n",
       "...          ...         ...       ...         ...\n",
       "151833         0           1         0           0\n",
       "151834         1           1         0           0\n",
       "151835         1           1         0           0\n",
       "151836         1           1         0           0\n",
       "151837         1           1         0           0\n",
       "\n",
       "[151838 rows x 4 columns]"
      ]
     },
     "execution_count": 67,
     "metadata": {},
     "output_type": "execute_result"
    }
   ],
   "source": [
    "all_df[['ind_var5','ind_var5_0','ind_var8','ind_var8_0']]"
   ]
  },
  {
   "cell_type": "code",
   "execution_count": 94,
   "metadata": {},
   "outputs": [],
   "source": [
    "train1=all_df.iloc[:n_train,:]\n",
    "test1=all_df.iloc[n_train:,:]\n",
    "id=test['ID']\n",
    "train=train.drop('ID',axis=1)\n",
    "test=test.drop('ID',axis=1)\n"
   ]
  },
  {
   "cell_type": "code",
   "execution_count": 131,
   "metadata": {},
   "outputs": [],
   "source": [
    "from sklearn.model_selection import train_test_split\n",
    "x_train,x_test,y_train,y_test=train_test_split(train1,y,test_size=0.2,stratify=y,random_state=8)\n",
    "clsf=XGBClassifier(n_estimators=350,max_depth=5,learning_rate=0.03,nthread=4, subsample=0.6815, colsample_bytree=0.7, seed=4242)\n"
   ]
  },
  {
   "cell_type": "code",
   "execution_count": 132,
   "metadata": {},
   "outputs": [
    {
     "name": "stdout",
     "output_type": "stream",
     "text": [
      "[0]\tvalidation_0-auc:0.797349\n",
      "Will train until validation_0-auc hasn't improved in 50 rounds.\n",
      "[10]\tvalidation_0-auc:0.82047\n",
      "[20]\tvalidation_0-auc:0.824233\n",
      "[30]\tvalidation_0-auc:0.825847\n",
      "[40]\tvalidation_0-auc:0.827108\n",
      "[50]\tvalidation_0-auc:0.827218\n",
      "[60]\tvalidation_0-auc:0.829347\n",
      "[70]\tvalidation_0-auc:0.830605\n",
      "[80]\tvalidation_0-auc:0.831636\n",
      "[90]\tvalidation_0-auc:0.832002\n",
      "[100]\tvalidation_0-auc:0.833026\n",
      "[110]\tvalidation_0-auc:0.833568\n",
      "[120]\tvalidation_0-auc:0.834506\n",
      "[130]\tvalidation_0-auc:0.834824\n",
      "[140]\tvalidation_0-auc:0.835174\n",
      "[150]\tvalidation_0-auc:0.835626\n",
      "[160]\tvalidation_0-auc:0.836243\n",
      "[170]\tvalidation_0-auc:0.836545\n",
      "[180]\tvalidation_0-auc:0.836963\n",
      "[190]\tvalidation_0-auc:0.837185\n",
      "[200]\tvalidation_0-auc:0.837783\n",
      "[210]\tvalidation_0-auc:0.83779\n",
      "[220]\tvalidation_0-auc:0.83831\n",
      "[230]\tvalidation_0-auc:0.838672\n",
      "[240]\tvalidation_0-auc:0.83857\n",
      "[250]\tvalidation_0-auc:0.838761\n",
      "[260]\tvalidation_0-auc:0.838805\n",
      "[270]\tvalidation_0-auc:0.838964\n",
      "[280]\tvalidation_0-auc:0.838856\n",
      "[290]\tvalidation_0-auc:0.838903\n",
      "[300]\tvalidation_0-auc:0.839154\n",
      "[310]\tvalidation_0-auc:0.839161\n",
      "[320]\tvalidation_0-auc:0.839269\n",
      "[330]\tvalidation_0-auc:0.83927\n",
      "[340]\tvalidation_0-auc:0.839271\n",
      "[349]\tvalidation_0-auc:0.839287\n"
     ]
    },
    {
     "data": {
      "text/plain": [
       "XGBClassifier(base_score=0.5, booster='gbtree', colsample_bylevel=1,\n",
       "              colsample_bynode=1, colsample_bytree=0.7, gamma=0,\n",
       "              learning_rate=0.03, max_delta_step=0, max_depth=5,\n",
       "              min_child_weight=1, missing=None, n_estimators=350, n_jobs=1,\n",
       "              nthread=4, objective='binary:logistic', random_state=0,\n",
       "              reg_alpha=0, reg_lambda=1, scale_pos_weight=1, seed=4242,\n",
       "              silent=None, subsample=0.6815, verbosity=1)"
      ]
     },
     "execution_count": 132,
     "metadata": {},
     "output_type": "execute_result"
    }
   ],
   "source": [
    "clsf.fit(x_train,y_train,early_stopping_rounds=50,eval_metric='auc',eval_set=[(x_test,y_test)],verbose=10)"
   ]
  },
  {
   "cell_type": "code",
   "execution_count": 134,
   "metadata": {},
   "outputs": [
    {
     "name": "stdout",
     "output_type": "stream",
     "text": [
      "0.8906269999543173\n"
     ]
    }
   ],
   "source": [
    "from sklearn.metrics import roc_auc_score\n",
    "print(roc_auc_score(y_train,clsf.predict_proba(x_train)[:,1]))"
   ]
  },
  {
   "cell_type": "code",
   "execution_count": 135,
   "metadata": {},
   "outputs": [],
   "source": [
    "y_pred=clsf.predict_proba(test1)[:,1]"
   ]
  },
  {
   "cell_type": "code",
   "execution_count": 136,
   "metadata": {},
   "outputs": [],
   "source": [
    "submission = pd.DataFrame({\"ID\":id, \"TARGET\":y_pred})\n",
    "submission.to_csv(\"submission1.csv\", index=False)"
   ]
  },
  {
   "cell_type": "code",
   "execution_count": null,
   "metadata": {},
   "outputs": [],
   "source": []
  }
 ],
 "metadata": {
  "kernelspec": {
   "display_name": "Python 3",
   "language": "python",
   "name": "python3"
  },
  "language_info": {
   "codemirror_mode": {
    "name": "ipython",
    "version": 3
   },
   "file_extension": ".py",
   "mimetype": "text/x-python",
   "name": "python",
   "nbconvert_exporter": "python",
   "pygments_lexer": "ipython3",
   "version": "3.7.4"
  }
 },
 "nbformat": 4,
 "nbformat_minor": 2
}
